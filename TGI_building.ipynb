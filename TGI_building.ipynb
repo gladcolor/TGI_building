{
 "cells": [
  {
   "cell_type": "markdown",
   "id": "1322c6d4-2fe4-499b-a98c-67ee4b011825",
   "metadata": {
    "execution": {
     "iopub.execute_input": "2023-07-07T15:07:25.092832Z",
     "iopub.status.busy": "2023-07-07T15:07:25.091799Z",
     "iopub.status.idle": "2023-07-07T15:07:25.105021Z",
     "shell.execute_reply": "2023-07-07T15:07:25.103922Z",
     "shell.execute_reply.started": "2023-07-07T15:07:25.092832Z"
    },
    "tags": []
   },
   "source": [
    "# Download image"
   ]
  },
  {
   "cell_type": "code",
   "execution_count": 21,
   "id": "0bf94a31-a1ad-4b5c-a84d-8ba1ac7b3fc2",
   "metadata": {
    "execution": {
     "iopub.execute_input": "2023-07-14T19:35:42.338346Z",
     "iopub.status.busy": "2023-07-14T19:35:42.338346Z",
     "iopub.status.idle": "2023-07-14T19:35:42.350350Z",
     "shell.execute_reply": "2023-07-14T19:35:42.349361Z",
     "shell.execute_reply.started": "2023-07-14T19:35:42.338346Z"
    },
    "tags": []
   },
   "outputs": [],
   "source": [
    "import geopandas as gpd\n",
    "from tqdm import tqdm\n",
    "import pandas as pd\n",
    "import os"
   ]
  },
  {
   "cell_type": "code",
   "execution_count": 3,
   "id": "35bffd4f-aa1e-4ef2-be3f-5dd3e5e70e70",
   "metadata": {
    "execution": {
     "iopub.execute_input": "2023-07-14T18:24:59.613389Z",
     "iopub.status.busy": "2023-07-14T18:24:59.613389Z",
     "iopub.status.idle": "2023-07-14T18:26:25.025450Z",
     "shell.execute_reply": "2023-07-14T18:26:25.024448Z",
     "shell.execute_reply.started": "2023-07-14T18:24:59.613389Z"
    },
    "tags": []
   },
   "outputs": [
    {
     "name": "stdout",
     "output_type": "stream",
     "text": [
      "Row count: 1084221\n"
     ]
    },
    {
     "data": {
      "text/html": [
       "<div>\n",
       "<style scoped>\n",
       "    .dataframe tbody tr th:only-of-type {\n",
       "        vertical-align: middle;\n",
       "    }\n",
       "\n",
       "    .dataframe tbody tr th {\n",
       "        vertical-align: top;\n",
       "    }\n",
       "\n",
       "    .dataframe thead th {\n",
       "        text-align: right;\n",
       "    }\n",
       "</style>\n",
       "<table border=\"1\" class=\"dataframe\">\n",
       "  <thead>\n",
       "    <tr style=\"text-align: right;\">\n",
       "      <th></th>\n",
       "      <th>Join_Count</th>\n",
       "      <th>TARGET_FID</th>\n",
       "      <th>BIN</th>\n",
       "      <th>boro_name</th>\n",
       "      <th>Shape_Leng</th>\n",
       "      <th>Shape_Area</th>\n",
       "      <th>geometry</th>\n",
       "    </tr>\n",
       "  </thead>\n",
       "  <tbody>\n",
       "    <tr>\n",
       "      <th>0</th>\n",
       "      <td>1</td>\n",
       "      <td>0</td>\n",
       "      <td>3170958</td>\n",
       "      <td>Brooklyn</td>\n",
       "      <td>185.034390</td>\n",
       "      <td>1638.139229</td>\n",
       "      <td>POLYGON ((-73.96665 40.62600, -73.96685 40.625...</td>\n",
       "    </tr>\n",
       "    <tr>\n",
       "      <th>1</th>\n",
       "      <td>1</td>\n",
       "      <td>1</td>\n",
       "      <td>5028452</td>\n",
       "      <td>Staten Island</td>\n",
       "      <td>109.884570</td>\n",
       "      <td>753.604121</td>\n",
       "      <td>POLYGON ((-74.16790 40.63936, -74.16790 40.639...</td>\n",
       "    </tr>\n",
       "    <tr>\n",
       "      <th>2</th>\n",
       "      <td>1</td>\n",
       "      <td>2</td>\n",
       "      <td>5078368</td>\n",
       "      <td>Staten Island</td>\n",
       "      <td>109.433052</td>\n",
       "      <td>718.949579</td>\n",
       "      <td>POLYGON ((-74.19511 40.55611, -74.19520 40.556...</td>\n",
       "    </tr>\n",
       "    <tr>\n",
       "      <th>3</th>\n",
       "      <td>1</td>\n",
       "      <td>3</td>\n",
       "      <td>3245111</td>\n",
       "      <td>Brooklyn</td>\n",
       "      <td>183.800502</td>\n",
       "      <td>1167.664121</td>\n",
       "      <td>POLYGON ((-73.96113 40.57744, -73.96115 40.577...</td>\n",
       "    </tr>\n",
       "    <tr>\n",
       "      <th>4</th>\n",
       "      <td>1</td>\n",
       "      <td>4</td>\n",
       "      <td>4161096</td>\n",
       "      <td>Queens</td>\n",
       "      <td>180.764206</td>\n",
       "      <td>1754.709217</td>\n",
       "      <td>POLYGON ((-73.75422 40.75591, -73.75417 40.755...</td>\n",
       "    </tr>\n",
       "  </tbody>\n",
       "</table>\n",
       "</div>"
      ],
      "text/plain": [
       "   Join_Count  TARGET_FID      BIN      boro_name  Shape_Leng   Shape_Area  \\\n",
       "0           1           0  3170958       Brooklyn  185.034390  1638.139229   \n",
       "1           1           1  5028452  Staten Island  109.884570   753.604121   \n",
       "2           1           2  5078368  Staten Island  109.433052   718.949579   \n",
       "3           1           3  3245111       Brooklyn  183.800502  1167.664121   \n",
       "4           1           4  4161096         Queens  180.764206  1754.709217   \n",
       "\n",
       "                                            geometry  \n",
       "0  POLYGON ((-73.96665 40.62600, -73.96685 40.625...  \n",
       "1  POLYGON ((-74.16790 40.63936, -74.16790 40.639...  \n",
       "2  POLYGON ((-74.19511 40.55611, -74.19520 40.556...  \n",
       "3  POLYGON ((-73.96113 40.57744, -73.96115 40.577...  \n",
       "4  POLYGON ((-73.75422 40.75591, -73.75417 40.755...  "
      ]
     },
     "execution_count": 3,
     "metadata": {},
     "output_type": "execute_result"
    }
   ],
   "source": [
    "# bulding_shp_file = r'https://github.com/gladcolor/TGI_building/raw/master/flood_zone_footprint.zip'\n",
    "bulding_shp_file = r'E:\\OneDrive_PSU\\OneDrive - The Pennsylvania State University\\Research_doc\\TGI\\Vector\\building_footprint_boroughs.shp'\n",
    "\n",
    "buildings_gdf = gpd.read_file(bulding_shp_file).to_crs(epsg=4326)\n",
    "print(\"Row count:\", len(buildings_gdf))\n",
    "buildings_gdf.head()"
   ]
  },
  {
   "cell_type": "code",
   "execution_count": 13,
   "id": "a81f4cab-2500-4d05-80ff-ba0cbae98e39",
   "metadata": {
    "execution": {
     "iopub.execute_input": "2023-07-14T19:30:07.751160Z",
     "iopub.status.busy": "2023-07-14T19:30:07.750159Z",
     "iopub.status.idle": "2023-07-14T19:30:07.880217Z",
     "shell.execute_reply": "2023-07-14T19:30:07.879246Z",
     "shell.execute_reply.started": "2023-07-14T19:30:07.751160Z"
    },
    "tags": []
   },
   "outputs": [
    {
     "data": {
      "text/plain": [
       "['Manhattan', 'Bronx', 'Staten Island', 'Brooklyn', 'Queens']"
      ]
     },
     "execution_count": 13,
     "metadata": {},
     "output_type": "execute_result"
    }
   ],
   "source": [
    "boroughs = pd.DataFrame(buildings_gdf['boro_name'].value_counts()).index.to_list()[::-1]\n",
    "boroughs"
   ]
  },
  {
   "cell_type": "code",
   "execution_count": null,
   "id": "10172306-695d-443d-93c7-4b2e0e471e92",
   "metadata": {},
   "outputs": [],
   "source": []
  },
  {
   "cell_type": "code",
   "execution_count": null,
   "id": "11c86f3d-1183-49c3-a909-98cddeb77f2d",
   "metadata": {
    "execution": {
     "iopub.execute_input": "2023-07-14T19:37:01.887217Z",
     "iopub.status.busy": "2023-07-14T19:37:01.887217Z"
    },
    "tags": []
   },
   "outputs": [
    {
     "name": "stdout",
     "output_type": "stream",
     "text": [
      "45428\n"
     ]
    },
    {
     "name": "stderr",
     "output_type": "stream",
     "text": [
      "Downloading images:   3%|█▍                                                    | 1191/45428 [16:06<10:57:53,  1.12it/s]"
     ]
    }
   ],
   "source": [
    "import requests\n",
    "from PIL import Image\n",
    "import io\n",
    "\n",
    "def get_image(row, naming_column, saved_path, size=512,  extend_factor=1.3):\n",
    "    \n",
    "    try:\n",
    "        # Calculate bounding box from geometry\n",
    "        bbox = row.geometry.bounds\n",
    "        minx, miny, maxx, maxy = bbox\n",
    "\n",
    "            # Calculate width and height\n",
    "        width = maxx - minx\n",
    "        height = maxy - miny\n",
    "\n",
    "        # Extend the bounding box\n",
    "        minx = minx - width * (extend_factor - 1) / 2\n",
    "        miny = miny - height * (extend_factor - 1) / 2\n",
    "        maxx = maxx + width * (extend_factor - 1) / 2\n",
    "        maxy = maxy + height * (extend_factor - 1) / 2\n",
    "\n",
    "        bbox_str = f\"{minx},{miny},{maxx},{maxy}\"\n",
    "        # print(bbox_str)\n",
    "    # \n",
    "        # Compose the WMS URL\n",
    "        url = f\"https://orthos.its.ny.gov/arcgis/rest/services/wms/Latest/MapServer/export?bbox={bbox_str}&bboxSR=4269&layers=show:0,1,2&format=png&size={size},{size}&imageSR=3857&f=image\"\n",
    "        # print(url)\n",
    "\n",
    "        # Send a GET request to the URL\n",
    "        response = requests.get(url, stream=True)\n",
    "\n",
    "        # Ensure the request was successful\n",
    "        response.raise_for_status()\n",
    "\n",
    "        # Open the image\n",
    "        img = Image.open(io.BytesIO(response.content))\n",
    "\n",
    "        # Save the image\n",
    "        filename = f\"{saved_path}/{row[naming_column]}.png\"\n",
    "        img.save(filename)\n",
    "        \n",
    "    except Exception as e:\n",
    "        print(\"Error:\", e)\n",
    "        # continue\n",
    "    \n",
    "\n",
    "# saved_path = r'P:\\Shared drives\\T5\\Research\\TGI\\footprint_image_flood_zone'\n",
    "saved_path = r'D:\\Research\\TGI\\Raster\\building_roof_images'\n",
    "\n",
    "\n",
    "\n",
    "naming_column = 'BIN'   \n",
    "tqdm.pandas(desc=\"Downloading images\")\n",
    "\n",
    "for borough in boroughs:\n",
    "    borough_dir = os.path.join(saved_path, borough)\n",
    "    os.makedirs(borough_dir, exist_ok=True)\n",
    "    gdf = buildings_gdf.query(f\" boro_name == '{borough}' \")\n",
    "    borough_building_cnt = len(gdf)\n",
    "    print(borough_building_cnt)\n",
    "\n",
    "    gdf.iloc[:].progress_apply(get_image, naming_column=naming_column, saved_path=borough_dir, axis=1)"
   ]
  },
  {
   "cell_type": "code",
   "execution_count": 22,
   "id": "9572e768-99db-4e3a-8685-268a226a0b7f",
   "metadata": {
    "execution": {
     "iopub.execute_input": "2023-07-07T15:07:42.702430Z",
     "iopub.status.busy": "2023-07-07T15:07:42.702430Z",
     "iopub.status.idle": "2023-07-07T15:07:42.717396Z",
     "shell.execute_reply": "2023-07-07T15:07:42.716424Z",
     "shell.execute_reply.started": "2023-07-07T15:07:42.702430Z"
    },
    "tags": []
   },
   "outputs": [
    {
     "name": "stdout",
     "output_type": "stream",
     "text": [
      "time: 16 ms (started: 2023-07-07 11:07:42 -04:00)\n"
     ]
    }
   ],
   "source": [
    "url = \"https://orthos.its.ny.gov/arcgis/rest/services/wms/Latest/MapServer/export?bbox=-74.26,40.49,-73.70,40.92&bboxSR=4326&layers=show:0,1,2&format=png&size=1200,800&imageSR=4326&f=image\"\n"
   ]
  },
  {
   "cell_type": "code",
   "execution_count": 36,
   "id": "de3a55c9-135c-4435-9cef-45813e401d4f",
   "metadata": {},
   "outputs": [
    {
     "ename": "ModuleNotFoundError",
     "evalue": "No module named 'brails'",
     "output_type": "error",
     "traceback": [
      "\u001b[1;31m---------------------------------------------------------------------------\u001b[0m",
      "\u001b[1;31mModuleNotFoundError\u001b[0m                       Traceback (most recent call last)",
      "Cell \u001b[1;32mIn[36], line 1\u001b[0m\n\u001b[1;32m----> 1\u001b[0m \u001b[38;5;28;01mimport\u001b[39;00m \u001b[38;5;21;01mbrails\u001b[39;00m\n",
      "\u001b[1;31mModuleNotFoundError\u001b[0m: No module named 'brails'"
     ]
    }
   ],
   "source": [
    "import brails"
   ]
  },
  {
   "cell_type": "code",
   "execution_count": 9,
   "id": "2921af2c-7730-4331-ba85-1645e749cd04",
   "metadata": {
    "execution": {
     "iopub.execute_input": "2023-07-07T15:04:29.323718Z",
     "iopub.status.busy": "2023-07-07T15:04:29.323718Z",
     "iopub.status.idle": "2023-07-07T15:04:29.340423Z",
     "shell.execute_reply": "2023-07-07T15:04:29.339546Z",
     "shell.execute_reply.started": "2023-07-07T15:04:29.323718Z"
    },
    "tags": []
   },
   "outputs": [],
   "source": [
    "# ! pip install BRAILS\n",
    "# ! pip install nodejs\n",
    "\n",
    "# !pip install jupyterlab_execute_time"
   ]
  },
  {
   "cell_type": "code",
   "execution_count": null,
   "id": "e15f79db-efc1-4b71-9129-cbd713b0d6fc",
   "metadata": {},
   "outputs": [],
   "source": []
  },
  {
   "cell_type": "code",
   "execution_count": null,
   "id": "b2c5c18d-ef36-4bc8-8bc3-c8c7a385f0e6",
   "metadata": {},
   "outputs": [],
   "source": []
  },
  {
   "cell_type": "markdown",
   "id": "cfeea84e-b64e-4578-8743-39130b8c8839",
   "metadata": {},
   "source": [
    "# Detect"
   ]
  },
  {
   "cell_type": "code",
   "execution_count": 2,
   "id": "77fb9c8f-6885-46e8-ab0a-8c6ef687ad84",
   "metadata": {},
   "outputs": [
    {
     "name": "stdout",
     "output_type": "stream",
     "text": [
      "Default roof type classifier will be used: transformer_rooftype_v1.\n",
      "\n",
      "Determining the roof type for each building...\n",
      "Default roof type classifier model at tmp/models loaded\n",
      "\n",
      "Model found locally: ./tmp/models/transformer_rooftype_v1.pkl \n",
      "Loading  ./tmp/models/transformer_rooftype_v1.pkl\n"
     ]
    }
   ],
   "source": [
    "import brails\n",
    "from brails.modules import PytorchRoofClassifier, PytorchOccupancyClassifier\n",
    "\n",
    "\n",
    "from glob import glob\n",
    "import os\n",
    "import pandas as pd\n",
    "pd.set_option('display.max_colwidth', None)  # Show full content of each column\n",
    "\n",
    "roofModel = PytorchRoofClassifier()\n"
   ]
  },
  {
   "cell_type": "code",
   "execution_count": 4,
   "id": "62997369-79eb-4903-a806-d5fae0951a70",
   "metadata": {},
   "outputs": [
    {
     "data": {
      "text/plain": [
       "48283"
      ]
     },
     "execution_count": 4,
     "metadata": {},
     "output_type": "execute_result"
    }
   ],
   "source": [
    "img_dir = r'P:\\Shared drives\\T5\\Research\\TGI\\footprint_image_flood_zone'\n",
    "imgs = glob(os.path.join(img_dir, \"*.png\"))\n",
    "len(imgs)\n"
   ]
  },
  {
   "cell_type": "code",
   "execution_count": 11,
   "id": "c4fb312c-4495-49e9-a19d-a4914c9e1b29",
   "metadata": {
    "execution": {
     "iopub.execute_input": "2023-07-07T15:05:20.187994Z",
     "iopub.status.busy": "2023-07-07T15:05:20.187994Z",
     "iopub.status.idle": "2023-07-07T15:05:23.305364Z",
     "shell.execute_reply": "2023-07-07T15:05:23.304443Z",
     "shell.execute_reply.started": "2023-07-07T15:05:20.187994Z"
    },
    "tags": []
   },
   "outputs": [
    {
     "name": "stdout",
     "output_type": "stream",
     "text": [
      "Collecting ipython-autotime\n",
      "  Using cached ipython_autotime-0.3.1-py2.py3-none-any.whl (6.8 kB)\n",
      "Requirement already satisfied: ipython in e:\\programdata\\anaconda3\\envs\\street_mapping_env\\lib\\site-packages (from ipython-autotime) (8.8.0)\n",
      "Requirement already satisfied: colorama in e:\\programdata\\anaconda3\\envs\\street_mapping_env\\lib\\site-packages (from ipython->ipython-autotime) (0.4.6)\n",
      "Requirement already satisfied: traitlets>=5 in e:\\programdata\\anaconda3\\envs\\street_mapping_env\\lib\\site-packages (from ipython->ipython-autotime) (5.8.0)\n",
      "Requirement already satisfied: jedi>=0.16 in e:\\programdata\\anaconda3\\envs\\street_mapping_env\\lib\\site-packages (from ipython->ipython-autotime) (0.18.2)\n",
      "Requirement already satisfied: stack-data in e:\\programdata\\anaconda3\\envs\\street_mapping_env\\lib\\site-packages (from ipython->ipython-autotime) (0.6.2)\n",
      "Requirement already satisfied: backcall in e:\\programdata\\anaconda3\\envs\\street_mapping_env\\lib\\site-packages (from ipython->ipython-autotime) (0.2.0)\n",
      "Requirement already satisfied: decorator in e:\\programdata\\anaconda3\\envs\\street_mapping_env\\lib\\site-packages (from ipython->ipython-autotime) (5.1.1)\n",
      "Requirement already satisfied: pickleshare in e:\\programdata\\anaconda3\\envs\\street_mapping_env\\lib\\site-packages (from ipython->ipython-autotime) (0.7.5)\n",
      "Requirement already satisfied: prompt-toolkit<3.1.0,>=3.0.11 in e:\\programdata\\anaconda3\\envs\\street_mapping_env\\lib\\site-packages (from ipython->ipython-autotime) (3.0.36)\n",
      "Requirement already satisfied: matplotlib-inline in e:\\programdata\\anaconda3\\envs\\street_mapping_env\\lib\\site-packages (from ipython->ipython-autotime) (0.1.6)\n",
      "Requirement already satisfied: pygments>=2.4.0 in e:\\programdata\\anaconda3\\envs\\street_mapping_env\\lib\\site-packages (from ipython->ipython-autotime) (2.14.0)\n",
      "Requirement already satisfied: parso<0.9.0,>=0.8.0 in e:\\programdata\\anaconda3\\envs\\street_mapping_env\\lib\\site-packages (from jedi>=0.16->ipython->ipython-autotime) (0.8.3)\n",
      "Requirement already satisfied: wcwidth in e:\\programdata\\anaconda3\\envs\\street_mapping_env\\lib\\site-packages (from prompt-toolkit<3.1.0,>=3.0.11->ipython->ipython-autotime) (0.2.5)\n",
      "Requirement already satisfied: pure-eval in e:\\programdata\\anaconda3\\envs\\street_mapping_env\\lib\\site-packages (from stack-data->ipython->ipython-autotime) (0.2.2)\n",
      "Requirement already satisfied: executing>=1.2.0 in e:\\programdata\\anaconda3\\envs\\street_mapping_env\\lib\\site-packages (from stack-data->ipython->ipython-autotime) (1.2.0)\n",
      "Requirement already satisfied: asttokens>=2.1.0 in e:\\programdata\\anaconda3\\envs\\street_mapping_env\\lib\\site-packages (from stack-data->ipython->ipython-autotime) (2.2.1)\n",
      "Requirement already satisfied: six in e:\\programdata\\anaconda3\\envs\\street_mapping_env\\lib\\site-packages (from asttokens>=2.1.0->stack-data->ipython->ipython-autotime) (1.16.0)\n",
      "Installing collected packages: ipython-autotime\n",
      "Successfully installed ipython-autotime-0.3.1\n",
      "time: 0 ns (started: 2023-07-07 11:05:23 -04:00)\n"
     ]
    }
   ],
   "source": [
    "# for i in range(0, len(imgs), 100):\n",
    "#     stop_pos = \n",
    "\n",
    "try:\n",
    "    %load_ext autotime\n",
    "except:\n",
    "    !pip install ipython-autotime\n",
    "    %load_ext autotime"
   ]
  },
  {
   "cell_type": "code",
   "execution_count": 12,
   "id": "5edd47de-ed99-4b68-91a5-8df84325c190",
   "metadata": {
    "execution": {
     "iopub.execute_input": "2023-07-07T15:05:27.411004Z",
     "iopub.status.busy": "2023-07-07T15:05:27.411004Z",
     "iopub.status.idle": "2023-07-07T15:05:42.840832Z",
     "shell.execute_reply": "2023-07-07T15:05:42.839829Z",
     "shell.execute_reply.started": "2023-07-07T15:05:27.411004Z"
    },
    "tags": []
   },
   "outputs": [
    {
     "name": "stdout",
     "output_type": "stream",
     "text": [
      "                                                                               image  \\\n",
      "0   P:\\Shared drives\\T5\\Research\\TGI\\footprint_image_flood_zone\\building_5053676.png   \n",
      "1   P:\\Shared drives\\T5\\Research\\TGI\\footprint_image_flood_zone\\building_5052970.png   \n",
      "2   P:\\Shared drives\\T5\\Research\\TGI\\footprint_image_flood_zone\\building_4299828.png   \n",
      "3   P:\\Shared drives\\T5\\Research\\TGI\\footprint_image_flood_zone\\building_3227038.png   \n",
      "4   P:\\Shared drives\\T5\\Research\\TGI\\footprint_image_flood_zone\\building_4590943.png   \n",
      "..                                                                               ...   \n",
      "95  P:\\Shared drives\\T5\\Research\\TGI\\footprint_image_flood_zone\\building_5134914.png   \n",
      "96  P:\\Shared drives\\T5\\Research\\TGI\\footprint_image_flood_zone\\building_5164152.png   \n",
      "97  P:\\Shared drives\\T5\\Research\\TGI\\footprint_image_flood_zone\\building_5127569.png   \n",
      "98  P:\\Shared drives\\T5\\Research\\TGI\\footprint_image_flood_zone\\building_5135425.png   \n",
      "99  P:\\Shared drives\\T5\\Research\\TGI\\footprint_image_flood_zone\\building_4305784.png   \n",
      "\n",
      "   prediction  probability  \n",
      "0      gabled     0.989678  \n",
      "1      gabled     1.000000  \n",
      "2      gabled     0.994364  \n",
      "3      hipped     1.000000  \n",
      "4        flat     0.973458  \n",
      "..        ...          ...  \n",
      "95     gabled     0.999999  \n",
      "96     gabled     0.999997  \n",
      "97     gabled     0.999946  \n",
      "98     gabled     1.000000  \n",
      "99     gabled     1.000000  \n",
      "\n",
      "[100 rows x 3 columns]\n",
      "Results written in file ./tmp\\roofType_preds.csv\n",
      "time: 15.4 s (started: 2023-07-07 11:05:27 -04:00)\n"
     ]
    }
   ],
   "source": [
    "predictions = roofModel.predictMultipleImages(imgs[:100])\n",
    "predictions = predictions.replace({\"flat\": \"gabled\", 'gabled':'hipped', 'hipped':'flat'})\n",
    "# predictions.to_csv(r'P:\\Shared drives\\T5\\Research\\TGI\\footprint_image_flood_zone\\roof_type_prediction.csv', index=False)"
   ]
  }
 ],
 "metadata": {
  "kernelspec": {
   "display_name": "street_mapping_env",
   "language": "python",
   "name": "street_mapping_env"
  },
  "language_info": {
   "codemirror_mode": {
    "name": "ipython",
    "version": 3
   },
   "file_extension": ".py",
   "mimetype": "text/x-python",
   "name": "python",
   "nbconvert_exporter": "python",
   "pygments_lexer": "ipython3",
   "version": "3.10.8"
  }
 },
 "nbformat": 4,
 "nbformat_minor": 5
}
